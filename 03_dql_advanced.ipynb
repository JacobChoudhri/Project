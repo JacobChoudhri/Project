{
 "cells": [
  {
   "cell_type": "code",
   "execution_count": 12,
   "metadata": {},
   "outputs": [],
   "source": [
    "import duckdb\n",
    "import pandas as pd"
   ]
  },
  {
   "cell_type": "code",
   "execution_count": 13,
   "metadata": {},
   "outputs": [],
   "source": [
    "pd.set_option(\"display.max_columns\", None)\n",
    "pd.set_option(\"display.max_colwidth\", None)\n",
    "pd.set_option(\"display.max_rows\", None)"
   ]
  },
  {
   "cell_type": "code",
   "execution_count": 14,
   "metadata": {},
   "outputs": [
    {
     "name": "stdout",
     "output_type": "stream",
     "text": [
      "The sql extension is already loaded. To reload it, use:\n",
      "  %reload_ext sql\n"
     ]
    }
   ],
   "source": [
    "%load_ext sql"
   ]
  },
  {
   "cell_type": "code",
   "execution_count": 15,
   "metadata": {},
   "outputs": [],
   "source": [
    "%config SqlMagic.autopandas = True\n",
    "%config SqlMagic.displaycon = False\n",
    "%config SqlMagic.feedback = False"
   ]
  },
  {
   "cell_type": "code",
   "execution_count": 16,
   "metadata": {},
   "outputs": [],
   "source": [
    "%sql duckdb:///:memory:"
   ]
  },
  {
   "cell_type": "code",
   "execution_count": 17,
   "metadata": {},
   "outputs": [],
   "source": [
    "orders_df = pd.read_excel(\"../data/Sample - Superstore.xls\", \"Orders\")\n",
    "returns_df = pd.read_excel(\"../data/Sample - Superstore.xls\", \"Returns\")\n",
    "people_df = pd.read_excel(\"../data/Sample - Superstore.xls\", \"People\")"
   ]
  },
  {
   "cell_type": "code",
   "execution_count": 18,
   "metadata": {},
   "outputs": [
    {
     "data": {
      "text/html": [
       "<div>\n",
       "<style scoped>\n",
       "    .dataframe tbody tr th:only-of-type {\n",
       "        vertical-align: middle;\n",
       "    }\n",
       "\n",
       "    .dataframe tbody tr th {\n",
       "        vertical-align: top;\n",
       "    }\n",
       "\n",
       "    .dataframe thead th {\n",
       "        text-align: right;\n",
       "    }\n",
       "</style>\n",
       "<table border=\"1\" class=\"dataframe\">\n",
       "  <thead>\n",
       "    <tr style=\"text-align: right;\">\n",
       "      <th></th>\n",
       "      <th>Count</th>\n",
       "    </tr>\n",
       "  </thead>\n",
       "  <tbody>\n",
       "  </tbody>\n",
       "</table>\n",
       "</div>"
      ],
      "text/plain": [
       "Empty DataFrame\n",
       "Columns: [Count]\n",
       "Index: []"
      ]
     },
     "execution_count": 18,
     "metadata": {},
     "output_type": "execute_result"
    }
   ],
   "source": [
    "%%sql\n",
    "CREATE TABLE IF NOT EXISTS orders AS\n",
    "SELECT *\n",
    "FROM orders_df"
   ]
  },
  {
   "cell_type": "code",
   "execution_count": 19,
   "metadata": {},
   "outputs": [
    {
     "data": {
      "text/html": [
       "<div>\n",
       "<style scoped>\n",
       "    .dataframe tbody tr th:only-of-type {\n",
       "        vertical-align: middle;\n",
       "    }\n",
       "\n",
       "    .dataframe tbody tr th {\n",
       "        vertical-align: top;\n",
       "    }\n",
       "\n",
       "    .dataframe thead th {\n",
       "        text-align: right;\n",
       "    }\n",
       "</style>\n",
       "<table border=\"1\" class=\"dataframe\">\n",
       "  <thead>\n",
       "    <tr style=\"text-align: right;\">\n",
       "      <th></th>\n",
       "      <th>Count</th>\n",
       "    </tr>\n",
       "  </thead>\n",
       "  <tbody>\n",
       "  </tbody>\n",
       "</table>\n",
       "</div>"
      ],
      "text/plain": [
       "Empty DataFrame\n",
       "Columns: [Count]\n",
       "Index: []"
      ]
     },
     "execution_count": 19,
     "metadata": {},
     "output_type": "execute_result"
    }
   ],
   "source": [
    "%%sql\n",
    "CREATE TABLE IF NOT EXISTS orders AS\n",
    "SELECT *\n",
    "FROM people_df\n"
   ]
  },
  {
   "cell_type": "code",
   "execution_count": 20,
   "metadata": {},
   "outputs": [
    {
     "data": {
      "text/html": [
       "<div>\n",
       "<style scoped>\n",
       "    .dataframe tbody tr th:only-of-type {\n",
       "        vertical-align: middle;\n",
       "    }\n",
       "\n",
       "    .dataframe tbody tr th {\n",
       "        vertical-align: top;\n",
       "    }\n",
       "\n",
       "    .dataframe thead th {\n",
       "        text-align: right;\n",
       "    }\n",
       "</style>\n",
       "<table border=\"1\" class=\"dataframe\">\n",
       "  <thead>\n",
       "    <tr style=\"text-align: right;\">\n",
       "      <th></th>\n",
       "      <th>Count</th>\n",
       "    </tr>\n",
       "  </thead>\n",
       "  <tbody>\n",
       "  </tbody>\n",
       "</table>\n",
       "</div>"
      ],
      "text/plain": [
       "Empty DataFrame\n",
       "Columns: [Count]\n",
       "Index: []"
      ]
     },
     "execution_count": 20,
     "metadata": {},
     "output_type": "execute_result"
    }
   ],
   "source": [
    "%%sql\n",
    "CREATE TABLE IF NOT EXISTS orders AS\n",
    "SELECT *\n",
    "FROM returns_df"
   ]
  },
  {
   "cell_type": "code",
   "execution_count": 21,
   "metadata": {},
   "outputs": [
    {
     "data": {
      "text/html": [
       "<div>\n",
       "<style scoped>\n",
       "    .dataframe tbody tr th:only-of-type {\n",
       "        vertical-align: middle;\n",
       "    }\n",
       "\n",
       "    .dataframe tbody tr th {\n",
       "        vertical-align: top;\n",
       "    }\n",
       "\n",
       "    .dataframe thead th {\n",
       "        text-align: right;\n",
       "    }\n",
       "</style>\n",
       "<table border=\"1\" class=\"dataframe\">\n",
       "  <thead>\n",
       "    <tr style=\"text-align: right;\">\n",
       "      <th></th>\n",
       "      <th>person</th>\n",
       "      <th>region</th>\n",
       "    </tr>\n",
       "  </thead>\n",
       "  <tbody>\n",
       "    <tr>\n",
       "      <th>0</th>\n",
       "      <td>Anna Andreadi</td>\n",
       "      <td>West</td>\n",
       "    </tr>\n",
       "    <tr>\n",
       "      <th>1</th>\n",
       "      <td>Chuck Magee</td>\n",
       "      <td>East</td>\n",
       "    </tr>\n",
       "    <tr>\n",
       "      <th>2</th>\n",
       "      <td>Kelly Williams</td>\n",
       "      <td>Central</td>\n",
       "    </tr>\n",
       "    <tr>\n",
       "      <th>3</th>\n",
       "      <td>Cassandra Brandow</td>\n",
       "      <td>South</td>\n",
       "    </tr>\n",
       "  </tbody>\n",
       "</table>\n",
       "</div>"
      ],
      "text/plain": [
       "              person   region\n",
       "0      Anna Andreadi     West\n",
       "1        Chuck Magee     East\n",
       "2     Kelly Williams  Central\n",
       "3  Cassandra Brandow    South"
      ]
     },
     "execution_count": 21,
     "metadata": {},
     "output_type": "execute_result"
    }
   ],
   "source": [
    "%%sql\n",
    "SELECT *\n",
    "FROM people_df"
   ]
  },
  {
   "cell_type": "markdown",
   "metadata": {},
   "source": [
    "# Advanced Notebook"
   ]
  },
  {
   "cell_type": "markdown",
   "metadata": {},
   "source": [
    "In the world of SQL, mastering advanced techniques is crucial for efficient and insightful data manipulation. Two such powerful tools are Common Table Expressions (CTEs) and Window Functions. These tools elevate your SQL prowess by enabling complex queries that were once intricate to construct.\n",
    "\n",
    "**Common Table Expressions** (CTEs) provide a mechanism to break down complex queries into manageable, readable segments. They act as temporary result sets, making it easier to structure and modularize queries. CTEs are especially useful when portions of queries need to be reused or when the logic needs to be clearer. They pave the way for more organized, maintainable, and elegant SQL code.\n",
    "\n",
    "**Window Functions**, on the other hand, introduce a new dimension to queries by enabling calculations across rows related to the current row. They allow you to compute aggregations, rankings, and other analytics without altering the result set. Window Functions offer insights into trends, patterns, and comparisons that would be cumbersome to achieve with traditional aggregate functions alone."
   ]
  },
  {
   "cell_type": "markdown",
   "metadata": {},
   "source": [
    "### Common Table Expressions"
   ]
  },
  {
   "cell_type": "code",
   "execution_count": 81,
   "metadata": {},
   "outputs": [
    {
     "data": {
      "text/html": [
       "<div>\n",
       "<style scoped>\n",
       "    .dataframe tbody tr th:only-of-type {\n",
       "        vertical-align: middle;\n",
       "    }\n",
       "\n",
       "    .dataframe tbody tr th {\n",
       "        vertical-align: top;\n",
       "    }\n",
       "\n",
       "    .dataframe thead th {\n",
       "        text-align: right;\n",
       "    }\n",
       "</style>\n",
       "<table border=\"1\" class=\"dataframe\">\n",
       "  <thead>\n",
       "    <tr style=\"text-align: right;\">\n",
       "      <th></th>\n",
       "      <th>region</th>\n",
       "      <th>total_order_revenue_currency</th>\n",
       "      <th>total_return_refunds</th>\n",
       "    </tr>\n",
       "  </thead>\n",
       "  <tbody>\n",
       "    <tr>\n",
       "      <th>0</th>\n",
       "      <td>South</td>\n",
       "      <td>2037675.3500000036</td>\n",
       "      <td>82124.6810</td>\n",
       "    </tr>\n",
       "    <tr>\n",
       "      <th>1</th>\n",
       "      <td>West</td>\n",
       "      <td>3595227.523499997</td>\n",
       "      <td>521821.2495</td>\n",
       "    </tr>\n",
       "    <tr>\n",
       "      <th>2</th>\n",
       "      <td>Central</td>\n",
       "      <td>2475832.944399999</td>\n",
       "      <td>70634.7530</td>\n",
       "    </tr>\n",
       "    <tr>\n",
       "      <th>3</th>\n",
       "      <td>East</td>\n",
       "      <td>3379326.253999996</td>\n",
       "      <td>214140.6640</td>\n",
       "    </tr>\n",
       "  </tbody>\n",
       "</table>\n",
       "</div>"
      ],
      "text/plain": [
       "    region total_order_revenue_currency  total_return_refunds\n",
       "0    South           2037675.3500000036            82124.6810\n",
       "1     West            3595227.523499997           521821.2495\n",
       "2  Central            2475832.944399999            70634.7530\n",
       "3     East            3379326.253999996           214140.6640"
      ]
     },
     "execution_count": 81,
     "metadata": {},
     "output_type": "execute_result"
    }
   ],
   "source": [
    "%%sql\n",
    "WITH order_revenue AS (\n",
    "  SELECT o.Region, SUM(o.Quantity * o.sales) AS total_order_revenue\n",
    "  FROM orders_df o\n",
    "  GROUP BY o.Region\n",
    "),\n",
    "return_refunds AS (\n",
    "  SELECT p.person, p.region, SUM(o.Quantity * o.sales)  AS total_return_refunds\n",
    "  FROM returns_df r\n",
    "  JOIN orders_df o ON r.Order_id = o.Order_id\n",
    "  JOIN people_df p ON o.Region = p.Region\n",
    "  WHERE r.Returned = 'Yes'\n",
    "  GROUP BY p.person, p.Region\n",
    ")\n",
    "SELECT o.Region, FORMAT(o.total_order_revenue, 2) AS total_order_revenue_currency, COALESCE(r.total_return_refunds, 0) AS total_return_refunds\n",
    "FROM order_revenue o\n",
    "LEFT JOIN return_refunds r ON o.Region = r.Region;"
   ]
  },
  {
   "cell_type": "markdown",
   "metadata": {},
   "source": [
    "In this example, we use two CTEs: \"order_revenue\" and \"return_refunds.\"\n",
    "\n",
    "The first CTE, \"order_revenue,\" calculates the total revenue from orders for each region. It sums up the product of \"Quantity\" and \"sales\" columns for each order in the \"orders\" table, grouped by \"Region.\"\n",
    "\n",
    "The second CTE, \"return_refunds,\" calculates the total refunds for each regional manager. It joins the \"returns,\" \"orders,\" and \"people\" tables based on their relationships and filters the returned orders based on the \"Returned\" column. It then calculates the total refunds for each regional manager by summing up the product of \"Quantity\" and \"sales\" columns for each returned order, grouped by \"person.\"\n",
    "\n",
    "Finally, we use LEFT JOIN to combine the results from both CTEs based on the \"Region\" and \"person\" columns, respectively. The COALESCE function is used to replace NULL values in the \"total_return_refunds\" column with 0."
   ]
  },
  {
   "cell_type": "markdown",
   "metadata": {},
   "source": [
    "### Window Functions"
   ]
  },
  {
   "cell_type": "code",
   "execution_count": 87,
   "metadata": {},
   "outputs": [
    {
     "data": {
      "text/html": [
       "<div>\n",
       "<style scoped>\n",
       "    .dataframe tbody tr th:only-of-type {\n",
       "        vertical-align: middle;\n",
       "    }\n",
       "\n",
       "    .dataframe tbody tr th {\n",
       "        vertical-align: top;\n",
       "    }\n",
       "\n",
       "    .dataframe thead th {\n",
       "        text-align: right;\n",
       "    }\n",
       "</style>\n",
       "<table border=\"1\" class=\"dataframe\">\n",
       "  <thead>\n",
       "    <tr style=\"text-align: right;\">\n",
       "      <th></th>\n",
       "      <th>region</th>\n",
       "      <th>total_order_revenue</th>\n",
       "      <th>total_return_refunds</th>\n",
       "    </tr>\n",
       "  </thead>\n",
       "  <tbody>\n",
       "    <tr>\n",
       "      <th>0</th>\n",
       "      <td>Central</td>\n",
       "      <td>2.475833e+06</td>\n",
       "      <td>70634.7530</td>\n",
       "    </tr>\n",
       "    <tr>\n",
       "      <th>1</th>\n",
       "      <td>East</td>\n",
       "      <td>3.379326e+06</td>\n",
       "      <td>214140.6640</td>\n",
       "    </tr>\n",
       "    <tr>\n",
       "      <th>2</th>\n",
       "      <td>West</td>\n",
       "      <td>3.595228e+06</td>\n",
       "      <td>521821.2495</td>\n",
       "    </tr>\n",
       "    <tr>\n",
       "      <th>3</th>\n",
       "      <td>South</td>\n",
       "      <td>2.037675e+06</td>\n",
       "      <td>82124.6810</td>\n",
       "    </tr>\n",
       "  </tbody>\n",
       "</table>\n",
       "</div>"
      ],
      "text/plain": [
       "    region  total_order_revenue  total_return_refunds\n",
       "0  Central         2.475833e+06            70634.7530\n",
       "1     East         3.379326e+06           214140.6640\n",
       "2     West         3.595228e+06           521821.2495\n",
       "3    South         2.037675e+06            82124.6810"
      ]
     },
     "execution_count": 87,
     "metadata": {},
     "output_type": "execute_result"
    }
   ],
   "source": [
    "%%sql\n",
    "SELECT DISTINCT\n",
    "  o.Region,\n",
    "  SUM(o.Quantity * o.sales) OVER(PARTITION BY o.Region) AS total_order_revenue,\n",
    "  SUM(CASE WHEN r.Returned = 'Yes' THEN o.Quantity * o.sales ELSE 0 END) \n",
    "    OVER(PARTITION BY p.person) AS total_return_refunds\n",
    "FROM orders o\n",
    "LEFT JOIN people_df p ON o.Region = p.Region\n",
    "LEFT JOIN returns_df r ON o.Order_id = r.Order_id;"
   ]
  },
  {
   "cell_type": "markdown",
   "metadata": {},
   "source": [
    "For \"total_order_revenue,\" we use the SUM window function with PARTITION BY o.Region. This function calculates the sum of the \"Quantity * sales\" for each order, partitioned by \"Region.\" The PARTITION BY clause ensures that the sum is calculated separately for each region.\n",
    "\n",
    "For \"total_return_refunds,\" we use the SUM window function with a CASE statement to handle refunds. The CASE statement evaluates if the order is returned (\"Returned = 'Yes'\") and calculates the sum of \"Quantity * sales\" only for returned orders (otherwise, 0 is used). The PARTITION BY p.Regional_manager ensures that the sum is calculated separately for each regional manager.\n",
    "\n",
    "The DISTINCT keyword is used to ensure that we get one row per region in the final result."
   ]
  },
  {
   "cell_type": "markdown",
   "metadata": {},
   "source": [
    "In this next example, we are using the SUM window function with ORDER BY o.Order_idid. This function calculates the cumulative sum of the \"Quantity * sales\" for each order, ordered by \"Order_id.\" The ORDER BY clause ensures that the cumulative sum is calculated in the order of the order dates.\n"
   ]
  },
  {
   "cell_type": "code",
   "execution_count": 91,
   "metadata": {},
   "outputs": [
    {
     "data": {
      "text/html": [
       "<div>\n",
       "<style scoped>\n",
       "    .dataframe tbody tr th:only-of-type {\n",
       "        vertical-align: middle;\n",
       "    }\n",
       "\n",
       "    .dataframe tbody tr th {\n",
       "        vertical-align: top;\n",
       "    }\n",
       "\n",
       "    .dataframe thead th {\n",
       "        text-align: right;\n",
       "    }\n",
       "</style>\n",
       "<table border=\"1\" class=\"dataframe\">\n",
       "  <thead>\n",
       "    <tr style=\"text-align: right;\">\n",
       "      <th></th>\n",
       "      <th>order_id</th>\n",
       "      <th>order_revenue</th>\n",
       "      <th>cumulative_sales</th>\n",
       "    </tr>\n",
       "  </thead>\n",
       "  <tbody>\n",
       "    <tr>\n",
       "      <th>0</th>\n",
       "      <td>CA-2014-100006</td>\n",
       "      <td>1133.910</td>\n",
       "      <td>1133.910</td>\n",
       "    </tr>\n",
       "    <tr>\n",
       "      <th>1</th>\n",
       "      <td>CA-2014-100090</td>\n",
       "      <td>1507.464</td>\n",
       "      <td>3821.598</td>\n",
       "    </tr>\n",
       "    <tr>\n",
       "      <th>2</th>\n",
       "      <td>CA-2014-100090</td>\n",
       "      <td>1180.224</td>\n",
       "      <td>3821.598</td>\n",
       "    </tr>\n",
       "    <tr>\n",
       "      <th>3</th>\n",
       "      <td>CA-2014-100293</td>\n",
       "      <td>546.336</td>\n",
       "      <td>4367.934</td>\n",
       "    </tr>\n",
       "    <tr>\n",
       "      <th>4</th>\n",
       "      <td>CA-2014-100328</td>\n",
       "      <td>3.928</td>\n",
       "      <td>4371.862</td>\n",
       "    </tr>\n",
       "    <tr>\n",
       "      <th>5</th>\n",
       "      <td>CA-2014-100363</td>\n",
       "      <td>57.024</td>\n",
       "      <td>4433.622</td>\n",
       "    </tr>\n",
       "    <tr>\n",
       "      <th>6</th>\n",
       "      <td>CA-2014-100363</td>\n",
       "      <td>4.736</td>\n",
       "      <td>4433.622</td>\n",
       "    </tr>\n",
       "    <tr>\n",
       "      <th>7</th>\n",
       "      <td>CA-2014-100391</td>\n",
       "      <td>29.240</td>\n",
       "      <td>4462.862</td>\n",
       "    </tr>\n",
       "    <tr>\n",
       "      <th>8</th>\n",
       "      <td>CA-2014-100678</td>\n",
       "      <td>951.174</td>\n",
       "      <td>6551.396</td>\n",
       "    </tr>\n",
       "    <tr>\n",
       "      <th>9</th>\n",
       "      <td>CA-2014-100678</td>\n",
       "      <td>5.376</td>\n",
       "      <td>6551.396</td>\n",
       "    </tr>\n",
       "    <tr>\n",
       "      <th>10</th>\n",
       "      <td>CA-2014-100678</td>\n",
       "      <td>683.928</td>\n",
       "      <td>6551.396</td>\n",
       "    </tr>\n",
       "    <tr>\n",
       "      <th>11</th>\n",
       "      <td>CA-2014-100678</td>\n",
       "      <td>448.056</td>\n",
       "      <td>6551.396</td>\n",
       "    </tr>\n",
       "    <tr>\n",
       "      <th>12</th>\n",
       "      <td>CA-2014-100706</td>\n",
       "      <td>199.960</td>\n",
       "      <td>6928.116</td>\n",
       "    </tr>\n",
       "    <tr>\n",
       "      <th>13</th>\n",
       "      <td>CA-2014-100706</td>\n",
       "      <td>176.760</td>\n",
       "      <td>6928.116</td>\n",
       "    </tr>\n",
       "    <tr>\n",
       "      <th>14</th>\n",
       "      <td>CA-2014-100762</td>\n",
       "      <td>607.680</td>\n",
       "      <td>8393.316</td>\n",
       "    </tr>\n",
       "  </tbody>\n",
       "</table>\n",
       "</div>"
      ],
      "text/plain": [
       "          order_id  order_revenue  cumulative_sales\n",
       "0   CA-2014-100006       1133.910          1133.910\n",
       "1   CA-2014-100090       1507.464          3821.598\n",
       "2   CA-2014-100090       1180.224          3821.598\n",
       "3   CA-2014-100293        546.336          4367.934\n",
       "4   CA-2014-100328          3.928          4371.862\n",
       "5   CA-2014-100363         57.024          4433.622\n",
       "6   CA-2014-100363          4.736          4433.622\n",
       "7   CA-2014-100391         29.240          4462.862\n",
       "8   CA-2014-100678        951.174          6551.396\n",
       "9   CA-2014-100678          5.376          6551.396\n",
       "10  CA-2014-100678        683.928          6551.396\n",
       "11  CA-2014-100678        448.056          6551.396\n",
       "12  CA-2014-100706        199.960          6928.116\n",
       "13  CA-2014-100706        176.760          6928.116\n",
       "14  CA-2014-100762        607.680          8393.316"
      ]
     },
     "execution_count": 91,
     "metadata": {},
     "output_type": "execute_result"
    }
   ],
   "source": [
    "%%sql\n",
    "SELECT\n",
    "  o.Order_id,\n",
    "  o.Quantity * o.sales AS order_revenue,\n",
    "  SUM(o.Quantity * o.sales) OVER(ORDER BY o.Order_id) AS cumulative_sales\n",
    "FROM orders_df o\n",
    "LIMIT 15;"
   ]
  },
  {
   "cell_type": "markdown",
   "metadata": {},
   "source": [
    "As you can see, we used a window function to calculate the cumulative sum of sales for each product, ordered by their order dates. This allows us to see how the sales revenue accumulates over time for each order. Window functions are powerful tools for performing calculations that involve ordering and partitioning data, offering insights into various trends and patterns within the dataset."
   ]
  }
 ],
 "metadata": {
  "kernelspec": {
   "display_name": "sql-learning-series",
   "language": "python",
   "name": "python3"
  },
  "language_info": {
   "codemirror_mode": {
    "name": "ipython",
    "version": 3
   },
   "file_extension": ".py",
   "mimetype": "text/x-python",
   "name": "python",
   "nbconvert_exporter": "python",
   "pygments_lexer": "ipython3",
   "version": "3.10.12"
  },
  "orig_nbformat": 4
 },
 "nbformat": 4,
 "nbformat_minor": 2
}
